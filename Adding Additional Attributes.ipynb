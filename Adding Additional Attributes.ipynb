{
 "cells": [
  {
   "cell_type": "markdown",
   "id": "39320779",
   "metadata": {},
   "source": [
    "# Getting the Cleaned Data to add some additional Attributes"
   ]
  },
  {
   "cell_type": "code",
   "execution_count": null,
   "id": "dec03a4e",
   "metadata": {},
   "outputs": [],
   "source": [
    "import requests\n",
    "from pandas.io.html import read_html\n",
    "import pandas as pd\n",
    "import re\n",
    "import numpy as np\n",
    "# import only html class\n",
    "from lxml import html \n",
    "from urllib.error import HTTPError"
   ]
  },
  {
   "cell_type": "code",
   "execution_count": null,
   "id": "75cd6b7a",
   "metadata": {},
   "outputs": [],
   "source": [
    "CD=pd.read_excel(\"CleanedData.xlsx\")\n",
    "CD\n"
   ]
  },
  {
   "cell_type": "code",
   "execution_count": null,
   "id": "7534affb",
   "metadata": {},
   "outputs": [],
   "source": [
    "name=CD[\"Name\"]\n",
    "name1=name.values\n",
    "name1\n",
    "\n"
   ]
  },
  {
   "cell_type": "markdown",
   "id": "8447323a",
   "metadata": {},
   "source": [
    "# Getting common available names/arabic names of stars"
   ]
  },
  {
   "cell_type": "code",
   "execution_count": null,
   "id": "81ea27cb",
   "metadata": {},
   "outputs": [],
   "source": [
    "infoboxes = read_html(\"https://en.wikipedia.org/wiki/List_of_Arabic_star_names\", index_col=0,attrs={\"class\":\"wikitable\"})\n"
   ]
  },
  {
   "cell_type": "markdown",
   "id": "6bb7256f",
   "metadata": {},
   "source": [
    "# Combining Data Frames that have same columns names"
   ]
  },
  {
   "cell_type": "code",
   "execution_count": null,
   "id": "aa36f363",
   "metadata": {},
   "outputs": [],
   "source": [
    "i=2\n",
    "df_star=pd.DataFrame()\n",
    "while i<24:\n",
    "    df=infoboxes[i]\n",
    "    df_star=df_star.append(df)\n",
    "    i+=1\n",
    "\n",
    "df_star\n"
   ]
  },
  {
   "cell_type": "code",
   "execution_count": null,
   "id": "43b006d8",
   "metadata": {},
   "outputs": [],
   "source": [
    "df_star.columns=['ArabicNameTransliteration','Meaning','ArabicName','ScientificStarName','Subgroup','ArabicVowel']\n",
    "x=df_star.reset_index()\n"
   ]
  },
  {
   "cell_type": "code",
   "execution_count": null,
   "id": "5ba3f62b",
   "metadata": {},
   "outputs": [],
   "source": [
    "x.columns=['CommonName','ArabicNameTransliteration','Meaning','ArabicName','ScientificStarName','Subgroup','ArabicVowel']\n",
    "x"
   ]
  },
  {
   "cell_type": "markdown",
   "id": "7a5c876d",
   "metadata": {},
   "source": [
    "# Combining DF's that have diff columns names"
   ]
  },
  {
   "cell_type": "code",
   "execution_count": null,
   "id": "8e2e1da0",
   "metadata": {
    "scrolled": true
   },
   "outputs": [],
   "source": [
    "i=0\n",
    "df_star_1=pd.DataFrame()\n",
    "while i<2:\n",
    "    df=infoboxes[i]\n",
    "    df_star_1=df_star_1.append(df)\n",
    "    i+=1\n",
    "\n",
    "df_star_1\n"
   ]
  },
  {
   "cell_type": "code",
   "execution_count": null,
   "id": "638162e0",
   "metadata": {},
   "outputs": [],
   "source": [
    "df_star_1.columns=['ArabicNameTransliteration','Meaning','ArabicName','ArabicVowel','ScientificStarName','G1','G2','G3','G4','G5']\n",
    "a=df_star_1.reset_index()\n",
    "a"
   ]
  },
  {
   "cell_type": "code",
   "execution_count": null,
   "id": "4719445a",
   "metadata": {},
   "outputs": [],
   "source": [
    "a.columns=['CommonName','ArabicNameTransliteration','Meaning','ArabicName','ArabicVowel','ScientificStarName','G1','G2','G3','G4','G5']\n",
    "a"
   ]
  },
  {
   "cell_type": "code",
   "execution_count": null,
   "id": "915d41b8",
   "metadata": {},
   "outputs": [],
   "source": [
    "y=a[['CommonName','ArabicNameTransliteration','Meaning','ArabicName','ArabicVowel','ScientificStarName']]\n",
    "y"
   ]
  },
  {
   "cell_type": "markdown",
   "id": "d3b76aea",
   "metadata": {},
   "source": [
    "# Appending both data frames"
   ]
  },
  {
   "cell_type": "code",
   "execution_count": null,
   "id": "472581d1",
   "metadata": {},
   "outputs": [],
   "source": [
    "NewDF=x.append(y)\n",
    "NewDF"
   ]
  },
  {
   "cell_type": "code",
   "execution_count": null,
   "id": "483c23f7",
   "metadata": {},
   "outputs": [],
   "source": [
    "ssn=NewDF['ScientificStarName']\n",
    "ssn_1=ssn.values\n",
    "ssn_1"
   ]
  },
  {
   "cell_type": "markdown",
   "id": "0ba86bc5",
   "metadata": {},
   "source": [
    "# Cleaning some scientific names"
   ]
  },
  {
   "cell_type": "code",
   "execution_count": null,
   "id": "3743e99a",
   "metadata": {},
   "outputs": [],
   "source": [
    "ssn_1\n",
    "ssn_2=[]\n",
    "for i in ssn_1:\n",
    "    if isinstance(i,float):\n",
    "        ssn_2.append(np.nan)\n",
    "    else:\n",
    "        i=i.replace(\"see also Diphda\",\"\")\n",
    "        i=i.replace('Delta Virginis, \"Minelauva\"','Delta Virginis')\n",
    "        i=i.replace(\"Xi Ursae Majoris and Nu Ursae Majoris\",'Nu Ursae Majoris')\n",
    "        i=i.replace(\"Lambda Orionis see also Meissa\",\"Meissa\")\n",
    "        i=i.replace(\"any of: Canopus, Velorum, or Lambda Velorum\",'Lambda Velorum')\n",
    "        i=i.replace(\"Epsilon Sagittarii Delta Sagittarii Lambda Sagittarii\",\"Epsilon Sagittarii\")\n",
    "        i=i.replace(\"Eta Ursae Majoris see also Alkaid\",\"Eta Ursae Majoris\")\n",
    "        i=i.replace(\"Iota Aurigae also named Hassaleh\",'Iota Aurigae')\n",
    "        i=i.replace(\"Beta Orionis see also Algebar\",'Rigel')\n",
    "        i=i.replace(\"refers to two stars: Gamma Corvi aka Gienah Corvi, in Corvus Epsilon Cygni aka Gienah Cygni, in Cygnus\",\"Gamma Corvi\")\n",
    "        i=i.replace(\"Zeta Draconis (Aldhibah)\",\"Zeta Draconis\")\n",
    "        i=i.replace(\"Alpha Orionis\",\"Betelgeuse\")\n",
    "        i=i.replace(\"alpha Cygni\",\"Deneb\")\n",
    "        i=i.replace(\"Beta Leonis\",\"Denebola\")\n",
    "        i=i.replace(\"Alpha Piscis Austrini\",\" Fomalhaut\")\n",
    "        i=i.replace(\"Delta Orionis\",\"Mintaka\")\n",
    "        i=i.replace(\"Alpha Virginis\",\"Spica\")\n",
    "        i=i.replace(\"Alpha Draconis\",\"Thuban\")\n",
    "        i=i.replace(\"Alpha Lyrae\",\"Vega\")\n",
    "        i=i.replace(\"Alpha Eridani\",\"Achernar\")\n",
    "        i=i.replace(\"Alpha Tauri\",\"Aldebaran\")\n",
    "        if '¹'in i:\n",
    "            i=i.replace('¹','1')\n",
    "            ssn_2.append(i.strip())\n",
    "        elif '²' in i:\n",
    "            i=i.replace('²','2')\n",
    "            ssn_2.append(i.strip())\n",
    "        elif ',' in i:\n",
    "            t=i.split(',') \n",
    "            x=t[0].strip()\n",
    "            ssn_2.append(x)\n",
    "        else:\n",
    "            ssn_2.append(i)\n",
    "\n",
    "ssn_2"
   ]
  },
  {
   "cell_type": "code",
   "execution_count": null,
   "id": "ed2fa9b1",
   "metadata": {
    "scrolled": true
   },
   "outputs": [],
   "source": [
    "ar=np.array(ssn_2)\n",
    "NewDF['ScientificStarName']=ar\n",
    "NewDF"
   ]
  },
  {
   "cell_type": "code",
   "execution_count": null,
   "id": "e5a21ff3",
   "metadata": {},
   "outputs": [],
   "source": [
    "NewDF=NewDF.drop('Subgroup',1)\n",
    "NewDF"
   ]
  },
  {
   "cell_type": "code",
   "execution_count": null,
   "id": "fbecac53",
   "metadata": {},
   "outputs": [],
   "source": [
    "NewDF=NewDF.drop('ArabicVowel',1)\n",
    "NewDF"
   ]
  },
  {
   "cell_type": "markdown",
   "id": "40eb467f",
   "metadata": {},
   "source": [
    "# Merging Cleaned Data and DF's created and adding the final data set to FinalDataSet_Cleaned.xlsx"
   ]
  },
  {
   "cell_type": "code",
   "execution_count": null,
   "id": "dc776f09",
   "metadata": {},
   "outputs": [],
   "source": [
    "newtest=pd.merge(CD,NewDF,left_on='Name',right_on='ScientificStarName',how='left')\n",
    "newtest"
   ]
  },
  {
   "cell_type": "code",
   "execution_count": null,
   "id": "160b37f5",
   "metadata": {},
   "outputs": [],
   "source": [
    "newtest.drop_duplicates(subset =\"Name\",\n",
    "                     keep = 'last', inplace = True)\n",
    "\n",
    "newtest"
   ]
  },
  {
   "cell_type": "code",
   "execution_count": null,
   "id": "ffd9fc8d",
   "metadata": {},
   "outputs": [],
   "source": [
    "newtest=newtest.drop('ScientificStarName',1)\n"
   ]
  },
  {
   "cell_type": "code",
   "execution_count": null,
   "id": "e91dc4a0",
   "metadata": {},
   "outputs": [],
   "source": [
    "newtest"
   ]
  },
  {
   "cell_type": "code",
   "execution_count": null,
   "id": "383c3613",
   "metadata": {},
   "outputs": [],
   "source": [
    "newtest.to_excel(\"FinalDataSet_Cleaned.xlsx\")"
   ]
  },
  {
   "cell_type": "code",
   "execution_count": null,
   "id": "a6b3ee1f",
   "metadata": {},
   "outputs": [],
   "source": []
  },
  {
   "cell_type": "code",
   "execution_count": null,
   "id": "05125073",
   "metadata": {},
   "outputs": [],
   "source": []
  }
 ],
 "metadata": {
  "kernelspec": {
   "display_name": "Python 3",
   "language": "python",
   "name": "python3"
  },
  "language_info": {
   "codemirror_mode": {
    "name": "ipython",
    "version": 3
   },
   "file_extension": ".py",
   "mimetype": "text/x-python",
   "name": "python",
   "nbconvert_exporter": "python",
   "pygments_lexer": "ipython3",
   "version": "3.8.8"
  }
 },
 "nbformat": 4,
 "nbformat_minor": 5
}
