{
 "cells": [
  {
   "cell_type": "markdown",
   "id": "90aeef30",
   "metadata": {},
   "source": [
    "# Traversing through each of the constellation wiki link and getting HIP ID for the stars"
   ]
  },
  {
   "cell_type": "code",
   "execution_count": null,
   "id": "607672a5",
   "metadata": {},
   "outputs": [],
   "source": [
    "import requests\n",
    "from pandas.io.html import read_html\n",
    "import pandas as pd\n",
    "import re\n",
    "import numpy as np\n",
    "# import only html class\n",
    "from lxml import html \n",
    "from urllib.error import HTTPError\n",
    "\n",
    "\n",
    "url='https://en.wikipedia.org/wiki/Lists_of_stars_by_constellation'\n",
    "\n",
    "\n",
    "\n",
    "def get_constellation_links(url):\n",
    "    const_links=[]\n",
    "    response = requests.get(url)\n",
    "    byte_data = response.content\n",
    "    source_code = html.fromstring(byte_data)\n",
    "    const_links=[]\n",
    "    for i in range(1,5):\n",
    "        path1='//table/tbody/tr[1]/td['+str(i)+']/ul/li/a'\n",
    "        tree = source_code.xpath(path1)\n",
    "        for x in range(0,len(tree)):\n",
    "            x=tree[x].get('href')\n",
    "            wiki_path=\"https://en.wikipedia.org\"+x\n",
    "            const_links.append(wiki_path)\n",
    "\n",
    "    return const_links\n",
    "\n",
    "\n",
    "\n",
    "\n",
    "\n"
   ]
  },
  {
   "cell_type": "code",
   "execution_count": null,
   "id": "0103b559",
   "metadata": {},
   "outputs": [],
   "source": [
    "#const_links=['https://en.wikipedia.org/wiki/List_of_stars_in_Antlia']\n",
    "def get_star_links(const_links):\n",
    "    title_page=[]\n",
    "    star_links=[]\n",
    "    title_HIP={}\n",
    "#url = 'https://en.wikipedia.org/wiki/List_of_stars_in_Antlia'\n",
    "    for const in const_links:\n",
    "        col_no=get_HIP_col_no(const)\n",
    "        path1='//table/tbody/tr'\n",
    "        i=0\n",
    "        response = requests.get(const)\n",
    "        byte_data = response.content\n",
    "        source_code = html.fromstring(byte_data)\n",
    "        tree = source_code.xpath(path1)\n",
    "        len(tree)\n",
    "        for i in range(len(tree)):\n",
    "            path = '//table/tbody/tr['+str(i)+']/td/a[1]'\n",
    "            path1='//table/tbody/tr['+str(i)+']/td['+str(col_no)+']'\n",
    "            tree = source_code.xpath(path)\n",
    "            if(len(tree)>0):\n",
    "                star_links.append(tree[0].get('href'))\n",
    "                name=tree[0].get('title')\n",
    "                print(name)\n",
    "                tree_hip=source_code.xpath(path1)\n",
    "                if(len(tree_hip)>0):\n",
    "                    HIP=tree_hip[0].text_content()\n",
    "                    title_HIP[name]=HIP\n",
    "            xpath_1=\"//*[@class='firstHeading']\"\n",
    "            #response_title = requests.get(const)\n",
    "            #byte_data_title = response_title.content\n",
    "            #source_code_title = html.fromstring(byte_data)\n",
    "            tree_title = source_code.xpath(xpath_1)\n",
    "            title=tree_title[0].text_content()  \n",
    "            title_page.append(title)\n",
    "    \n",
    "    return star_links,title_page,title_HIP\n",
    "\n",
    "\n"
   ]
  },
  {
   "cell_type": "code",
   "execution_count": null,
   "id": "7791beca",
   "metadata": {},
   "outputs": [],
   "source": [
    "def get_HIP_col_no(const):\n",
    "        path44=\"//div[@id='mw-content-text']/div/table//th\"\n",
    "        i=0\n",
    "        response = requests.get(const)\n",
    "        byte_data = response.content\n",
    "        source_code = html.fromstring(byte_data)\n",
    "        tree = source_code.xpath(path44)\n",
    "        count=1\n",
    "        for i in tree:\n",
    "            a=i.text_content().strip()\n",
    "            if a!='HIP':\n",
    "                count=count+1\n",
    "            else:\n",
    "                return count\n",
    "\n",
    "\n",
    "\n",
    "\n",
    "\n",
    "\n",
    "\n",
    "        "
   ]
  },
  {
   "cell_type": "code",
   "execution_count": null,
   "id": "0a5e341b",
   "metadata": {},
   "outputs": [],
   "source": [
    "constellation_wiki=get_constellation_links(url)\n",
    "stars_wiki,page_titles,hip=get_star_links(constellation_wiki)"
   ]
  },
  {
   "cell_type": "markdown",
   "id": "d2e2a9cb",
   "metadata": {},
   "source": [
    "# Getting the data from stars_final.xlsx and setting index and getting name column"
   ]
  },
  {
   "cell_type": "code",
   "execution_count": null,
   "id": "4dc5aec0",
   "metadata": {},
   "outputs": [],
   "source": [
    "df_test=pd.read_excel(\"stars_final.xlsx\")\n",
    "\n",
    "df_test"
   ]
  },
  {
   "cell_type": "code",
   "execution_count": null,
   "id": "5453e728",
   "metadata": {},
   "outputs": [],
   "source": [
    "columnSeriesObj = df_test['Name']\n",
    "test=columnSeriesObj.values\n",
    "print(test)"
   ]
  },
  {
   "cell_type": "markdown",
   "id": "cd4e5028",
   "metadata": {},
   "source": [
    "# For each key as name column get HIP ID from HIP MAP,create a url for scraping universeguide and add the list of URL to list"
   ]
  },
  {
   "cell_type": "code",
   "execution_count": null,
   "id": "89f89715",
   "metadata": {},
   "outputs": [],
   "source": [
    "univ_guide=[]\n",
    "name=[]\n",
    "for i in test:\n",
    "    try:\n",
    "        hip_val=hip[i]\n",
    "        print(hip_val)\n",
    "        path='https://www.universeguide.com/star/'\n",
    "        if hip_val!='':\n",
    "            complete_path1=path+str(hip_val)\n",
    "            print(complete_path1)\n",
    "            univ_guide.append(complete_path1)\n",
    "            name.append(i)\n",
    "    except KeyError:\n",
    "        continue\n",
    "        \n",
    "\n",
    "print(len(univ_guide))"
   ]
  },
  {
   "cell_type": "markdown",
   "id": "c44c39b7",
   "metadata": {},
   "source": [
    "# Iterating over the list in samples so the site does not block the user. The list was traversed in samples and are put in the excel with file names ug_1.xlsx to ug_13.xlsx"
   ]
  },
  {
   "cell_type": "code",
   "execution_count": null,
   "id": "4f5b1fb3",
   "metadata": {},
   "outputs": [],
   "source": [
    "import time\n",
    "\n",
    "col_names=['Unnamed: 0','Alternative Names','Spectral Type','Binary or Multiple Star System','Star Type based on Spectral Type',\n",
    "           'Colour','Galaxy','Constellation',\"Constellation's Main Star\",'Absolute Magnitude','Visual / Apparent Magnitude',\n",
    "           'Naked Eye Visible','Right Ascension (R.A.)','Declination (Dec.)','Galactic Latitude','Galactic Longitude',\n",
    "           '1997 Distance from Earth','2007 Distance from Earth','Galacto-Centric Distance','Proper Motion Dec.',\n",
    "           'Proper Motion RA.','B-V Index','Radial Velocity','Iron Abundance (Fe/H)','Eccentricity','Inclination',\n",
    "           'Semi-Major Axis','Luminosity (Lsun)','Mass (Solars)',\n",
    "           'Effective Temperature (Kelvin)','Orbital Period (Days)','Argument Of Periastron','Brightest in Night Sky']"
   ]
  },
  {
   "cell_type": "code",
   "execution_count": null,
   "id": "33784b4f",
   "metadata": {},
   "outputs": [],
   "source": [
    "star_map={}"
   ]
  },
  {
   "cell_type": "code",
   "execution_count": null,
   "id": "a401be38",
   "metadata": {},
   "outputs": [],
   "source": [
    "\n",
    "col_names=['Unnamed: 0','Alternative Names','Spectral Type','Binary or Multiple Star System','Star Type based on Spectral Type',\n",
    "           'Colour','Galaxy','Constellation',\"Constellation's Main Star\",'Absolute Magnitude','Visual / Apparent Magnitude',\n",
    "           'Naked Eye Visible','Right Ascension (R.A.)','Declination (Dec.)','Galactic Latitude','Galactic Longitude',\n",
    "           '1997 Distance from Earth','2007 Distance from Earth','Galacto-Centric Distance','Proper Motion Dec.',\n",
    "           'Proper Motion RA.','B-V Index','Radial Velocity','Iron Abundance (Fe/H)','Eccentricity','Inclination',\n",
    "           'Semi-Major Axis','Luminosity (Lsun)','Mass (Solars)',\n",
    "           'Effective Temperature (Kelvin)','Orbital Period (Days)','Argument Of Periastron','Brightest in Night Sky']\n",
    "#change the sample range for getting data.This needs to be done as the site blocks user.\n",
    "for link in range(0,10):\n",
    "    temp=['Alternative Names','Spectral Type','Binary or Multiple Star System','Star Type based on Spectral Type',\n",
    "           'Colour','Galaxy','Constellation',\"Constellation's Main Star\",'Absolute Magnitude','Visual / Apparent Magnitude',\n",
    "           'Naked Eye Visible','Right Ascension (R.A.)','Declination (Dec.)','Galactic Latitude','Galactic Longitude',\n",
    "           '1997 Distance from Earth','2007 Distance from Earth','Galacto-Centric Distance','Proper Motion Dec.',\n",
    "           'Proper Motion RA.','B-V Index','Radial Velocity','Iron Abundance (Fe/H)','Eccentricity','Inclination',\n",
    "           'Semi-Major Axis','Luminosity (Lsun)','Mass (Solars)',\n",
    "           'Effective Temperature (Kelvin)','Orbital Period (Days)','Argument Of Periastron','Brightest in Night Sky']\n",
    "    try:\n",
    "        response = requests.get(univ_guide[link])\n",
    "    except ConnectionError:\n",
    "        continue\n",
    "    byte_data = response.content\n",
    "    source_code = html.fromstring(byte_data)\n",
    "    tree_key = source_code.xpath(\"//div[@id='mainpart']/table[1]/tr/td[1]\")\n",
    "    print(len(tree_key))\n",
    "    tree_Value = source_code.xpath(\"//div[@id='mainpart']/table[1]/tr/td[2]\")\n",
    "    print(len(tree_Value))\n",
    "    key=[]\n",
    "    values=[]\n",
    "    for k in tree_key:\n",
    "        print(k.text_content())\n",
    "        key.append(k.text_content())\n",
    "\n",
    "    for v in tree_Value:\n",
    "        values.append(v.text_content())\n",
    "    \n",
    "    get_key=''\n",
    "    i=0\n",
    "    new=''\n",
    "    rows=[]\n",
    "    \n",
    "    while (i<len(key)):\n",
    "        if(key[i]!=\"\\xa0\"):\n",
    "            get_key=key[i]\n",
    "            print(get_key)\n",
    "            try:\n",
    "                temp.remove(get_key)       \n",
    "            except ValueError:\n",
    "                i+=1\n",
    "                continue\n",
    "            star_map.setdefault(get_key,[]).append(values[i])\n",
    "            i+=1\n",
    "        else:\n",
    "            if get_key in ['1997 Distance from Earth','2007 Distance from Earth']:\n",
    "                star_map.setdefault(get_key,[]).pop()\n",
    "                new+=values[i]\n",
    "                new+='|'\n",
    "                star_map.setdefault(get_key,[]).append(new.strip('|'))\n",
    "                i+=1\n",
    "            else:\n",
    "                get_key='2007 Distance from Earth'\n",
    "                star_map.setdefault(get_key,[]).pop()\n",
    "                new+=values[i]\n",
    "                new+='|'\n",
    "                star_map.setdefault(get_key,[]).append(new.strip('|'))\n",
    "                i+=1\n",
    "    star_map.setdefault('Name',[]).append(name[link])\n",
    "    print(temp)\n",
    "    for j in temp:\n",
    "        if j!=' ':\n",
    "            star_map.setdefault(j,[]).append('')\n",
    "    time.sleep(10)  \n"
   ]
  },
  {
   "cell_type": "code",
   "execution_count": null,
   "id": "0c056d29",
   "metadata": {},
   "outputs": [],
   "source": [
    "star_map"
   ]
  },
  {
   "cell_type": "code",
   "execution_count": null,
   "id": "959d146c",
   "metadata": {},
   "outputs": [],
   "source": [
    "df=pd.DataFrame(star_map)\n",
    "df"
   ]
  },
  {
   "cell_type": "code",
   "execution_count": null,
   "id": "9ba27432",
   "metadata": {},
   "outputs": [],
   "source": [
    "df.to_excel(\"ug_13.xlsx\")"
   ]
  },
  {
   "cell_type": "markdown",
   "id": "65d110ad",
   "metadata": {},
   "source": [
    "# Creating empty data frame"
   ]
  },
  {
   "cell_type": "code",
   "execution_count": null,
   "id": "3deef214",
   "metadata": {},
   "outputs": [],
   "source": [
    "df_final=pd.DataFrame(columns=col_names)\n",
    "df_final"
   ]
  },
  {
   "cell_type": "markdown",
   "id": "9c04f7f9",
   "metadata": {},
   "source": [
    "# Importing each excel created from above samples to data frames and creating a single list of all data frames and writing the combined data to univ_guide_final.xlsx\""
   ]
  },
  {
   "cell_type": "code",
   "execution_count": null,
   "id": "9cc9a5a6",
   "metadata": {},
   "outputs": [],
   "source": [
    "df_1=pd.read_excel(\"ug_1.xlsx\")\n",
    "df_1\n",
    "df_2=pd.read_excel(\"ug_2.xlsx\")\n",
    "df_2\n",
    "df_3=pd.read_excel(\"ug_3.xlsx\")\n",
    "df_3\n",
    "df_4=pd.read_excel(\"ug_4.xlsx\")\n",
    "df_4\n",
    "df_5=pd.read_excel(\"ug_5.xlsx\")\n",
    "df_5\n",
    "df_6=pd.read_excel(\"ug_6.xlsx\")\n",
    "df_6\n",
    "df_7=pd.read_excel(\"ug_7.xlsx\")\n",
    "df_7\n",
    "df_8=pd.read_excel(\"ug_8.xlsx\")\n",
    "df_8\n",
    "df_9=pd.read_excel(\"ug_9.xlsx\")\n",
    "df_9\n",
    "df_10=pd.read_excel(\"ug_10.xlsx\")\n",
    "df_10\n",
    "df_11=pd.read_excel(\"ug_11.xlsx\")\n",
    "df_11\n",
    "df_12=pd.read_excel(\"ug_12.xlsx\")\n",
    "df_12\n",
    "df_13=pd.read_excel(\"ug_13.xlsx\")\n",
    "df_13\n"
   ]
  },
  {
   "cell_type": "code",
   "execution_count": null,
   "id": "e708d950",
   "metadata": {},
   "outputs": [],
   "source": [
    "frames=[df_1,df_2,df_3,df_4,df_5,df_6,df_7,df_8,df_9,df_10,df_11,df_12,df_13]\n",
    "final_data_frame=pd.concat(frames,ignore_index=True)"
   ]
  },
  {
   "cell_type": "code",
   "execution_count": null,
   "id": "ca944bdb",
   "metadata": {},
   "outputs": [],
   "source": [
    "final_data_frame"
   ]
  },
  {
   "cell_type": "code",
   "execution_count": null,
   "id": "f7d7a6bc",
   "metadata": {},
   "outputs": [],
   "source": [
    "final_data_frame.to_excel(\"univ_guide_final.xlsx\")"
   ]
  },
  {
   "cell_type": "code",
   "execution_count": null,
   "id": "1e5058ad",
   "metadata": {},
   "outputs": [],
   "source": []
  }
 ],
 "metadata": {
  "kernelspec": {
   "display_name": "Python 3",
   "language": "python",
   "name": "python3"
  },
  "language_info": {
   "codemirror_mode": {
    "name": "ipython",
    "version": 3
   },
   "file_extension": ".py",
   "mimetype": "text/x-python",
   "name": "python",
   "nbconvert_exporter": "python",
   "pygments_lexer": "ipython3",
   "version": "3.8.8"
  }
 },
 "nbformat": 4,
 "nbformat_minor": 5
}
