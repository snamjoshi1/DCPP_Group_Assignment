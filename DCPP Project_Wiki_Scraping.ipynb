{
 "cells": [
  {
   "cell_type": "markdown",
   "id": "1b352f7c",
   "metadata": {},
   "source": [
    "# Get all the constellation wiki pages links from https://en.wikipedia.org/wiki/Lists_of_stars_by_constellation"
   ]
  },
  {
   "cell_type": "code",
   "execution_count": null,
   "id": "a26d6f89",
   "metadata": {},
   "outputs": [],
   "source": [
    "import requests\n",
    "from pandas.io.html import read_html\n",
    "import pandas as pd\n",
    "import re\n",
    "import numpy as np\n",
    "# import only html class\n",
    "from lxml import html \n",
    "from urllib.error import HTTPError\n",
    "\n",
    "final=['Name','Constellation',\n",
    " 'Right ascension',\n",
    " 'Declination',\n",
    " 'Apparent\\xa0magnitude\\xa0(V)',\n",
    " 'Spectral\\xa0type',\n",
    " 'U−B color index',\n",
    " 'B−V color index',\n",
    " 'V−R color index',\n",
    " 'R−I color index',\n",
    " 'Variable\\xa0type',\n",
    " 'Radial velocity (Rv)',\n",
    " 'Proper motion (μ)',\n",
    " 'Parallax (π)',\n",
    " 'Distance',\n",
    " 'Absolute\\xa0magnitude\\xa0(MV)',\n",
    " 'Mass',\n",
    " 'Radius',\n",
    " 'Luminosity',\n",
    " 'Surface gravity (log\\xa0g)',\n",
    " 'Temperature',\n",
    " 'Metallicity [Fe/H]',\n",
    " 'Rotational velocity (v\\xa0sin\\xa0i)',\n",
    " 'Age',\n",
    " 'Period (P)',\n",
    " 'Semi-major axis (a)',\n",
    " 'Eccentricity (e)',\n",
    " 'Inclination (i)',\n",
    " 'Longitude of the node (Ω)',\n",
    " 'Periastron epoch (T)',\n",
    " 'Argument of periastron (ω)(secondary)']\n",
    "\n",
    "\n",
    "url='https://en.wikipedia.org/wiki/Lists_of_stars_by_constellation'\n",
    "\n",
    "\n",
    "\n",
    "def get_constellation_links(url):\n",
    "    const_links=[]\n",
    "    response = requests.get(url)\n",
    "    byte_data = response.content\n",
    "    source_code = html.fromstring(byte_data)\n",
    "    const_links=[]\n",
    "    for i in range(1,5):\n",
    "        path1='//table/tbody/tr[1]/td['+str(i)+']/ul/li/a'\n",
    "        tree = source_code.xpath(path1)\n",
    "        for x in range(0,len(tree)):\n",
    "            x=tree[x].get('href')\n",
    "            wiki_path=\"https://en.wikipedia.org\"+x\n",
    "            const_links.append(wiki_path)\n",
    "\n",
    "    return const_links\n",
    "\n",
    "\n",
    "\n",
    "\n",
    "\n"
   ]
  },
  {
   "cell_type": "markdown",
   "id": "43884312",
   "metadata": {},
   "source": [
    "# Each Star has Unique HIP ID under HIP column.Also the HIP column number is dynamic. The below code provided column number"
   ]
  },
  {
   "cell_type": "code",
   "execution_count": null,
   "id": "fa8df23f",
   "metadata": {},
   "outputs": [],
   "source": [
    "def get_HIP_col_no(const):\n",
    "        path44=\"//div[@id='mw-content-text']/div/table//th\"\n",
    "        i=0\n",
    "        response = requests.get(const)\n",
    "        byte_data = response.content\n",
    "        source_code = html.fromstring(byte_data)\n",
    "        tree = source_code.xpath(path44)\n",
    "        count=1\n",
    "        for i in tree:\n",
    "            a=i.text_content().strip()\n",
    "            if a!='HIP':\n",
    "                count=count+1\n",
    "            else:\n",
    "                return count"
   ]
  },
  {
   "cell_type": "markdown",
   "id": "870187c8",
   "metadata": {},
   "source": [
    "# Iterate over the constellation links and get the list of wiki pages for stars under each constellation and UNIQUE HIP ID for the star"
   ]
  },
  {
   "cell_type": "code",
   "execution_count": null,
   "id": "4fe0968f",
   "metadata": {},
   "outputs": [],
   "source": [
    "def get_star_links(const_links):\n",
    "    title_page=[]\n",
    "    star_links=[]\n",
    "    title_HIP={}\n",
    "\n",
    "    for const in const_links:\n",
    "        col_no=get_HIP_col_no(const)\n",
    "        path1='//table/tbody/tr'\n",
    "        i=0\n",
    "        response = requests.get(const)\n",
    "        byte_data = response.content\n",
    "        source_code = html.fromstring(byte_data)\n",
    "        tree = source_code.xpath(path1)\n",
    "        len(tree)\n",
    "        for i in range(len(tree)):\n",
    "            path = '//table/tbody/tr['+str(i)+']/td/a[1]'\n",
    "            path1='//table/tbody/tr['+str(i)+']/td['+str(col_no)+']'\n",
    "            tree = source_code.xpath(path)\n",
    "            if(len(tree)>0):\n",
    "                star_links.append(tree[0].get('href'))\n",
    "                name=tree[0].get('title')\n",
    "                print(name)\n",
    "                tree_hip=source_code.xpath(path1)\n",
    "                if(len(tree_hip)>0):\n",
    "                    HIP=tree_hip[0].text_content()\n",
    "                    title_HIP[name]=HIP\n",
    "            xpath_1=\"//*[@class='firstHeading']\"\n",
    "            tree_title = source_code.xpath(xpath_1)\n",
    "            title=tree_title[0].text_content()  \n",
    "            title_page.append(title)\n",
    "    \n",
    "    return star_links,title_page,title_HIP\n",
    "\n",
    "\n"
   ]
  },
  {
   "cell_type": "markdown",
   "id": "e9df0f0f",
   "metadata": {},
   "source": [
    "# Cell Description:Calling the functions made above to get the data"
   ]
  },
  {
   "cell_type": "code",
   "execution_count": null,
   "id": "4b218ef5",
   "metadata": {
    "scrolled": true
   },
   "outputs": [],
   "source": [
    "constellation_wiki=get_constellation_links(url)\n",
    "stars_wiki,page_titles,hip=get_star_links(constellation_wiki)"
   ]
  },
  {
   "cell_type": "markdown",
   "id": "959c721b",
   "metadata": {},
   "source": [
    "# Creating unique links from href obtained from above functions"
   ]
  },
  {
   "cell_type": "code",
   "execution_count": null,
   "id": "95ea0cf6",
   "metadata": {},
   "outputs": [],
   "source": [
    "stars=[]\n",
    "for i in stars_wiki:\n",
    "    wiki_path=\"https://en.wikipedia.org\"+i\n",
    "    stars.append(wiki_path)\n",
    "stars"
   ]
  },
  {
   "cell_type": "markdown",
   "id": "b8ecea8c",
   "metadata": {},
   "source": [
    "# Dividing the list of star links into samples"
   ]
  },
  {
   "cell_type": "code",
   "execution_count": null,
   "id": "5c7cce71",
   "metadata": {},
   "outputs": [],
   "source": [
    "len(stars)"
   ]
  },
  {
   "cell_type": "code",
   "execution_count": null,
   "id": "5a49a251",
   "metadata": {},
   "outputs": [],
   "source": [
    "Sample1=stars[0:10]"
   ]
  },
  {
   "cell_type": "code",
   "execution_count": null,
   "id": "26cf33c3",
   "metadata": {},
   "outputs": [],
   "source": [
    "Sample2=stars[500:1200]"
   ]
  },
  {
   "cell_type": "code",
   "execution_count": null,
   "id": "c3b2896e",
   "metadata": {},
   "outputs": [],
   "source": [
    "Sample3=stars[1200:2000]"
   ]
  },
  {
   "cell_type": "code",
   "execution_count": null,
   "id": "6d536298",
   "metadata": {},
   "outputs": [],
   "source": [
    "Sample4=stars[2000:2800]"
   ]
  },
  {
   "cell_type": "code",
   "execution_count": null,
   "id": "58793e0f",
   "metadata": {},
   "outputs": [],
   "source": [
    "Sample5=stars[2800:3600]"
   ]
  },
  {
   "cell_type": "code",
   "execution_count": null,
   "id": "c11dd09b",
   "metadata": {},
   "outputs": [],
   "source": [
    "Sample6=stars[3600:4400]"
   ]
  },
  {
   "cell_type": "code",
   "execution_count": null,
   "id": "c442fe3e",
   "metadata": {},
   "outputs": [],
   "source": [
    "Sample7=stars[4400:5200]"
   ]
  },
  {
   "cell_type": "code",
   "execution_count": null,
   "id": "81dea0c6",
   "metadata": {},
   "outputs": [],
   "source": [
    "Sample8=stars[5200:6000]"
   ]
  },
  {
   "cell_type": "code",
   "execution_count": null,
   "id": "d63c72ce",
   "metadata": {},
   "outputs": [],
   "source": [
    "Sample9=stars[6000:6800]"
   ]
  },
  {
   "cell_type": "code",
   "execution_count": null,
   "id": "9829490d",
   "metadata": {},
   "outputs": [],
   "source": [
    "Sample10=stars[6800:7600]"
   ]
  },
  {
   "cell_type": "code",
   "execution_count": null,
   "id": "e7cb9a34",
   "metadata": {},
   "outputs": [],
   "source": [
    "Sample11=stars[7600:8400]"
   ]
  },
  {
   "cell_type": "code",
   "execution_count": null,
   "id": "59a51160",
   "metadata": {},
   "outputs": [],
   "source": [
    "Sample12=stars[8400:]\n",
    "len(Sample12)"
   ]
  },
  {
   "cell_type": "markdown",
   "id": "415b171f",
   "metadata": {},
   "source": [
    "# Creating Blank Data Frame"
   ]
  },
  {
   "cell_type": "code",
   "execution_count": null,
   "id": "61f639ea",
   "metadata": {
    "scrolled": true
   },
   "outputs": [],
   "source": [
    "df=pd.DataFrame(columns=final)\n",
    "df"
   ]
  },
  {
   "cell_type": "markdown",
   "id": "a4d02c2c",
   "metadata": {},
   "source": [
    "# Code to get star details from each link"
   ]
  },
  {
   "cell_type": "code",
   "execution_count": null,
   "id": "30fab607",
   "metadata": {},
   "outputs": [],
   "source": [
    "def get_star_details(stars,df):\n",
    "    for links in stars:\n",
    "        response = requests.get(links)\n",
    "        byte_data = response.content\n",
    "        source_code = html.fromstring(byte_data)\n",
    "        xpath=\"//*[@class='firstHeading']\"\n",
    "# jump to preferred html element\n",
    "        tree = source_code.xpath(xpath)\n",
    "        print(tree[0].text_content())\n",
    "        if(tree[0].text_content() in page_titles):\n",
    "            continue\n",
    "        try:    \n",
    "            infoboxes = read_html(links, index_col=0,attrs={\"class\":\"infobox\"})\n",
    "        except (ValueError,NameError,HTTPError):\n",
    "            continue\n",
    "        \n",
    "        list_of_values=[]\n",
    "\n",
    "        for x in final:\n",
    "            try: \n",
    "                z=infoboxes[0].xs(x).values[0]\n",
    "                if isinstance(z,(str)):\n",
    "                    y=z.encode(\"utf-8\",\"ignore\")\n",
    "                    y=y.decode()\n",
    "                    list_of_values.append(y)\n",
    "                elif isinstance(z,(np.ndarray)):\n",
    "                    if(len(z)>=1):\n",
    "                        a=z[0]\n",
    "                        a=a.encode(\"utf-8\",\"ignore\")\n",
    "                        a=a.decode()\n",
    "                        list_of_values.append(a)\n",
    "                else:\n",
    "                    list_of_values.append(\"\")\n",
    "            except (KeyError,NameError):\n",
    "                list_of_values.append(\"\")\n",
    "        list_of_values[0]=tree[0].text_content()\n",
    "        final_val=[]\n",
    "        for x in list_of_values:\n",
    "            t=x.replace('\\xa0',' ')\n",
    "            t=re.sub(r'\\[\\d+\\]', '', t)\n",
    "            final_val.append(t)\n",
    "        f_series=pd.Series(final_val,index=df.columns)\n",
    "        df=df.append(f_series,ignore_index=True)\n",
    "        \n",
    "    return df\n",
    "    "
   ]
  },
  {
   "cell_type": "markdown",
   "id": "a2ba31fc",
   "metadata": {},
   "source": [
    "# Getting star details for each sample"
   ]
  },
  {
   "cell_type": "code",
   "execution_count": null,
   "id": "4dabc2da",
   "metadata": {},
   "outputs": [],
   "source": [
    "stars_data_1=get_star_details(Sample1,df)\n"
   ]
  },
  {
   "cell_type": "code",
   "execution_count": null,
   "id": "b73f0ffb",
   "metadata": {},
   "outputs": [],
   "source": [
    "stars_data_2=get_star_details(Sample2,df)"
   ]
  },
  {
   "cell_type": "code",
   "execution_count": null,
   "id": "f176c28a",
   "metadata": {},
   "outputs": [],
   "source": [
    "stars_data_3=get_star_details(Sample3,df)"
   ]
  },
  {
   "cell_type": "code",
   "execution_count": null,
   "id": "00b6d443",
   "metadata": {},
   "outputs": [],
   "source": [
    "stars_data_4=get_star_details(Sample4,df)"
   ]
  },
  {
   "cell_type": "code",
   "execution_count": null,
   "id": "149d30d8",
   "metadata": {},
   "outputs": [],
   "source": [
    "stars_data_5=get_star_details(Sample5,df)"
   ]
  },
  {
   "cell_type": "code",
   "execution_count": null,
   "id": "c6819b63",
   "metadata": {},
   "outputs": [],
   "source": [
    "stars_data_6=get_star_details(Sample6,df)"
   ]
  },
  {
   "cell_type": "code",
   "execution_count": null,
   "id": "9c93c7d7",
   "metadata": {},
   "outputs": [],
   "source": [
    "stars_data_7=get_star_details(Sample7,df)"
   ]
  },
  {
   "cell_type": "code",
   "execution_count": null,
   "id": "eb97516e",
   "metadata": {},
   "outputs": [],
   "source": [
    "stars_data_8=get_star_details(Sample8,df)"
   ]
  },
  {
   "cell_type": "code",
   "execution_count": null,
   "id": "d65eff35",
   "metadata": {},
   "outputs": [],
   "source": [
    "stars_data_9=get_star_details(Sample9,df)"
   ]
  },
  {
   "cell_type": "code",
   "execution_count": null,
   "id": "bee29c4b",
   "metadata": {},
   "outputs": [],
   "source": [
    "stars_data_10=get_star_details(Sample10,df)"
   ]
  },
  {
   "cell_type": "code",
   "execution_count": null,
   "id": "09086345",
   "metadata": {},
   "outputs": [],
   "source": [
    "stars_data_11=get_star_details(Sample11,df)"
   ]
  },
  {
   "cell_type": "code",
   "execution_count": null,
   "id": "758d6aa5",
   "metadata": {},
   "outputs": [],
   "source": [
    "stars_data_12=get_star_details(Sample12,df)"
   ]
  },
  {
   "cell_type": "markdown",
   "id": "abbe0f34",
   "metadata": {},
   "source": [
    "# Combining Frames to a list of framed"
   ]
  },
  {
   "cell_type": "code",
   "execution_count": null,
   "id": "a415b3c7",
   "metadata": {},
   "outputs": [],
   "source": [
    "frames=[stars_data_1,stars_data_2,stars_data_3,stars_data_4,stars_data_5,stars_data_6,stars_data_7,\n",
    "        stars_data_8,stars_data_9,stars_data_10,stars_data_11,stars_data_12]"
   ]
  },
  {
   "cell_type": "markdown",
   "id": "c73e9c5f",
   "metadata": {},
   "source": [
    "# Creating a final DF and putting data to excel"
   ]
  },
  {
   "cell_type": "code",
   "execution_count": null,
   "id": "74534491",
   "metadata": {},
   "outputs": [],
   "source": [
    "final_data_frame=pd.concat(frames,ignore_index=True)"
   ]
  },
  {
   "cell_type": "code",
   "execution_count": null,
   "id": "23a0c7d2",
   "metadata": {},
   "outputs": [],
   "source": [
    "final_data_frame"
   ]
  },
  {
   "cell_type": "code",
   "execution_count": null,
   "id": "dc37a2e7",
   "metadata": {},
   "outputs": [],
   "source": [
    "final_data_frame.to_excel(\"stars_final.xlsx\")"
   ]
  }
 ],
 "metadata": {
  "kernelspec": {
   "display_name": "Python 3",
   "language": "python",
   "name": "python3"
  },
  "language_info": {
   "codemirror_mode": {
    "name": "ipython",
    "version": 3
   },
   "file_extension": ".py",
   "mimetype": "text/x-python",
   "name": "python",
   "nbconvert_exporter": "python",
   "pygments_lexer": "ipython3",
   "version": "3.8.8"
  }
 },
 "nbformat": 4,
 "nbformat_minor": 5
}
